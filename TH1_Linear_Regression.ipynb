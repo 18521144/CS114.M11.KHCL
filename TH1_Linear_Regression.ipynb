{
  "nbformat": 4,
  "nbformat_minor": 0,
  "metadata": {
    "colab": {
      "name": "NSA - TH1. Linear Regression",
      "provenance": [],
      "include_colab_link": true
    },
    "kernelspec": {
      "name": "python3",
      "display_name": "Python 3"
    },
    "language_info": {
      "name": "python"
    },
    "accelerator": "GPU"
  },
  "cells": [
    {
      "cell_type": "markdown",
      "metadata": {
        "id": "view-in-github",
        "colab_type": "text"
      },
      "source": [
        "<a href=\"https://colab.research.google.com/github/18521144/CS114.M11.KHCL/blob/main/TH1_Linear_Regression.ipynb\" target=\"_parent\"><img src=\"https://colab.research.google.com/assets/colab-badge.svg\" alt=\"Open In Colab\"/></a>"
      ]
    },
    {
      "cell_type": "markdown",
      "metadata": {
        "id": "OXVYETYDvusr"
      },
      "source": [
        "# **LAB1: LINEAR REGRESSION**\n",
        "**Đề bài:** Xây dựng model Linear Regression dự đoán thời gian chạy chương trình dựa trên độ lớn bộ dữ liệu. Tập train và test được giảng viên cung cấp dưới dạng hai file .txt.\n"
      ]
    },
    {
      "cell_type": "markdown",
      "metadata": {
        "id": "iwiWCwHBwj7n"
      },
      "source": [
        "**Nhóm sinh viên thực hiện: NSA**\n",
        "    \n",
        "- 18521144 - Nguyễn Hữu Nghĩa \n",
        "- 18521353 - Trần Ngọc Sương\n",
        "- 20521072 - Nguyễn Thị Kim Anh"
      ]
    },
    {
      "cell_type": "code",
      "metadata": {
        "id": "KApkOQTWTcDN"
      },
      "source": [
        "#Import những packages cần thiết\n",
        "import numpy as np\n",
        "import pandas as pd\n",
        "import matplotlib.pyplot as plt\n",
        "%matplotlib inline\n",
        "\n",
        "from sklearn.linear_model import LinearRegression\n",
        "from sklearn.metrics import mean_squared_error as MSE \n",
        "from sklearn.metrics import r2_score as R2\n",
        "from sklearn.metrics import mean_absolute_error as MAE"
      ],
      "execution_count": 65,
      "outputs": []
    },
    {
      "cell_type": "code",
      "metadata": {
        "colab": {
          "base_uri": "https://localhost:8080/"
        },
        "id": "t_WtP7iLfBor",
        "outputId": "40914828-6239-4fd7-fce7-806b6800df2e"
      },
      "source": [
        "#Cấp quyền truy cập drive\n",
        "from google.colab import drive\n",
        "drive.mount('/content/drive')"
      ],
      "execution_count": 32,
      "outputs": [
        {
          "output_type": "stream",
          "name": "stdout",
          "text": [
            "Drive already mounted at /content/drive; to attempt to forcibly remount, call drive.mount(\"/content/drive\", force_remount=True).\n"
          ]
        }
      ]
    },
    {
      "cell_type": "markdown",
      "metadata": {
        "id": "vgtcmlbWYG07"
      },
      "source": [
        "# **NHẬP DỮ LIỆU TỪ FILE TXT VÀ KHÁM PHÁ DỮ LIỆU**"
      ]
    },
    {
      "cell_type": "markdown",
      "metadata": {
        "id": "tILytUgxYRuw"
      },
      "source": [
        "**X_train, y_train**"
      ]
    },
    {
      "cell_type": "code",
      "metadata": {
        "id": "1_HqzsjwYCFv"
      },
      "source": [
        "#Sử dụng pandas.read_csv để đọc dữ liệu từ file \"train.txt\"\n",
        "train_set = pd.read_csv(\"/content/drive/MyDrive/th1_data/train.txt\", names = [\"X\", \"y\"], header = None)"
      ],
      "execution_count": 38,
      "outputs": []
    },
    {
      "cell_type": "code",
      "metadata": {
        "colab": {
          "base_uri": "https://localhost:8080/",
          "height": 331
        },
        "id": "Pyt_T8Ypg5nd",
        "outputId": "5b32f80c-3743-4c37-a93e-4d6d03c51447"
      },
      "source": [
        "#Xem thử 9 bộ đầu\n",
        "train_set.head(9)"
      ],
      "execution_count": 39,
      "outputs": [
        {
          "output_type": "execute_result",
          "data": {
            "text/html": [
              "<div>\n",
              "<style scoped>\n",
              "    .dataframe tbody tr th:only-of-type {\n",
              "        vertical-align: middle;\n",
              "    }\n",
              "\n",
              "    .dataframe tbody tr th {\n",
              "        vertical-align: top;\n",
              "    }\n",
              "\n",
              "    .dataframe thead th {\n",
              "        text-align: right;\n",
              "    }\n",
              "</style>\n",
              "<table border=\"1\" class=\"dataframe\">\n",
              "  <thead>\n",
              "    <tr style=\"text-align: right;\">\n",
              "      <th></th>\n",
              "      <th>X</th>\n",
              "      <th>y</th>\n",
              "    </tr>\n",
              "  </thead>\n",
              "  <tbody>\n",
              "    <tr>\n",
              "      <th>0</th>\n",
              "      <td>6083695</td>\n",
              "      <td>0.521842</td>\n",
              "    </tr>\n",
              "    <tr>\n",
              "      <th>1</th>\n",
              "      <td>1954367</td>\n",
              "      <td>0.152648</td>\n",
              "    </tr>\n",
              "    <tr>\n",
              "      <th>2</th>\n",
              "      <td>3734185</td>\n",
              "      <td>0.298548</td>\n",
              "    </tr>\n",
              "    <tr>\n",
              "      <th>3</th>\n",
              "      <td>5839301</td>\n",
              "      <td>0.460480</td>\n",
              "    </tr>\n",
              "    <tr>\n",
              "      <th>4</th>\n",
              "      <td>6343427</td>\n",
              "      <td>0.527977</td>\n",
              "    </tr>\n",
              "    <tr>\n",
              "      <th>5</th>\n",
              "      <td>1355574</td>\n",
              "      <td>0.098012</td>\n",
              "    </tr>\n",
              "    <tr>\n",
              "      <th>6</th>\n",
              "      <td>725488</td>\n",
              "      <td>0.048238</td>\n",
              "    </tr>\n",
              "    <tr>\n",
              "      <th>7</th>\n",
              "      <td>1191887</td>\n",
              "      <td>0.089304</td>\n",
              "    </tr>\n",
              "    <tr>\n",
              "      <th>8</th>\n",
              "      <td>4556292</td>\n",
              "      <td>0.378561</td>\n",
              "    </tr>\n",
              "  </tbody>\n",
              "</table>\n",
              "</div>"
            ],
            "text/plain": [
              "         X         y\n",
              "0  6083695  0.521842\n",
              "1  1954367  0.152648\n",
              "2  3734185  0.298548\n",
              "3  5839301  0.460480\n",
              "4  6343427  0.527977\n",
              "5  1355574  0.098012\n",
              "6   725488  0.048238\n",
              "7  1191887  0.089304\n",
              "8  4556292  0.378561"
            ]
          },
          "metadata": {},
          "execution_count": 39
        }
      ]
    },
    {
      "cell_type": "code",
      "metadata": {
        "colab": {
          "base_uri": "https://localhost:8080/",
          "height": 300
        },
        "id": "3GSlqwA1hSG_",
        "outputId": "ae666d19-ae1a-4814-a282-bd8cb5579390"
      },
      "source": [
        "#Desrcibe bộ test\n",
        "train_set.describe()"
      ],
      "execution_count": 40,
      "outputs": [
        {
          "output_type": "execute_result",
          "data": {
            "text/html": [
              "<div>\n",
              "<style scoped>\n",
              "    .dataframe tbody tr th:only-of-type {\n",
              "        vertical-align: middle;\n",
              "    }\n",
              "\n",
              "    .dataframe tbody tr th {\n",
              "        vertical-align: top;\n",
              "    }\n",
              "\n",
              "    .dataframe thead th {\n",
              "        text-align: right;\n",
              "    }\n",
              "</style>\n",
              "<table border=\"1\" class=\"dataframe\">\n",
              "  <thead>\n",
              "    <tr style=\"text-align: right;\">\n",
              "      <th></th>\n",
              "      <th>X</th>\n",
              "      <th>y</th>\n",
              "    </tr>\n",
              "  </thead>\n",
              "  <tbody>\n",
              "    <tr>\n",
              "      <th>count</th>\n",
              "      <td>7.111500e+04</td>\n",
              "      <td>71115.000000</td>\n",
              "    </tr>\n",
              "    <tr>\n",
              "      <th>mean</th>\n",
              "      <td>4.998766e+06</td>\n",
              "      <td>0.406785</td>\n",
              "    </tr>\n",
              "    <tr>\n",
              "      <th>std</th>\n",
              "      <td>2.882618e+06</td>\n",
              "      <td>0.244039</td>\n",
              "    </tr>\n",
              "    <tr>\n",
              "      <th>min</th>\n",
              "      <td>2.550000e+02</td>\n",
              "      <td>0.000009</td>\n",
              "    </tr>\n",
              "    <tr>\n",
              "      <th>25%</th>\n",
              "      <td>2.496521e+06</td>\n",
              "      <td>0.192746</td>\n",
              "    </tr>\n",
              "    <tr>\n",
              "      <th>50%</th>\n",
              "      <td>5.010144e+06</td>\n",
              "      <td>0.403410</td>\n",
              "    </tr>\n",
              "    <tr>\n",
              "      <th>75%</th>\n",
              "      <td>7.481742e+06</td>\n",
              "      <td>0.616155</td>\n",
              "    </tr>\n",
              "    <tr>\n",
              "      <th>max</th>\n",
              "      <td>9.999882e+06</td>\n",
              "      <td>0.983776</td>\n",
              "    </tr>\n",
              "  </tbody>\n",
              "</table>\n",
              "</div>"
            ],
            "text/plain": [
              "                  X             y\n",
              "count  7.111500e+04  71115.000000\n",
              "mean   4.998766e+06      0.406785\n",
              "std    2.882618e+06      0.244039\n",
              "min    2.550000e+02      0.000009\n",
              "25%    2.496521e+06      0.192746\n",
              "50%    5.010144e+06      0.403410\n",
              "75%    7.481742e+06      0.616155\n",
              "max    9.999882e+06      0.983776"
            ]
          },
          "metadata": {},
          "execution_count": 40
        }
      ]
    },
    {
      "cell_type": "code",
      "metadata": {
        "colab": {
          "base_uri": "https://localhost:8080/",
          "height": 279
        },
        "id": "Dk18zs87kLSC",
        "outputId": "b2b20ced-e16e-416c-f652-1bbe33e4ac0d"
      },
      "source": [
        "#Plot data train\n",
        "plt.scatter(train_set.X, train_set.y, color = 'blue')\n",
        "plt.xlabel(\"Size of data\")\n",
        "plt.ylabel(\"Running time\")\n",
        "plt.show()"
      ],
      "execution_count": 45,
      "outputs": [
        {
          "output_type": "display_data",
          "data": {
            "image/png": "[encoded data removed]",
            "text/plain": [
              "<Figure size 432x288 with 1 Axes>"
            ]
          },
          "metadata": {
            "needs_background": "light"
          }
        }
      ]
    },
    {
      "cell_type": "markdown",
      "metadata": {
        "id": "8k74ukTCYNGL"
      },
      "source": [
        "**X_test, y_test**"
      ]
    },
    {
      "cell_type": "code",
      "metadata": {
        "id": "cnF-ZpBlXHmr"
      },
      "source": [
        "#Sử dụng pandas.read_csv để đọc dữ liệu từ file \"test.txt\"\n",
        "test_set = pd.read_csv(\"/content/drive/MyDrive/th1_data/test.txt\", names = [\"X\", \"y\"], header = None)"
      ],
      "execution_count": 41,
      "outputs": []
    },
    {
      "cell_type": "code",
      "metadata": {
        "id": "SCWagyPTY59N",
        "colab": {
          "base_uri": "https://localhost:8080/",
          "height": 331
        },
        "outputId": "52b17930-4260-45ed-d499-e5ca3096c12e"
      },
      "source": [
        "#Xem thử 9 bộ đầu\n",
        "test_set.head(9)"
      ],
      "execution_count": 42,
      "outputs": [
        {
          "output_type": "execute_result",
          "data": {
            "text/html": [
              "<div>\n",
              "<style scoped>\n",
              "    .dataframe tbody tr th:only-of-type {\n",
              "        vertical-align: middle;\n",
              "    }\n",
              "\n",
              "    .dataframe tbody tr th {\n",
              "        vertical-align: top;\n",
              "    }\n",
              "\n",
              "    .dataframe thead th {\n",
              "        text-align: right;\n",
              "    }\n",
              "</style>\n",
              "<table border=\"1\" class=\"dataframe\">\n",
              "  <thead>\n",
              "    <tr style=\"text-align: right;\">\n",
              "      <th></th>\n",
              "      <th>X</th>\n",
              "      <th>y</th>\n",
              "    </tr>\n",
              "  </thead>\n",
              "  <tbody>\n",
              "    <tr>\n",
              "      <th>0</th>\n",
              "      <td>37837612</td>\n",
              "      <td>4.12166</td>\n",
              "    </tr>\n",
              "    <tr>\n",
              "      <th>1</th>\n",
              "      <td>37395246</td>\n",
              "      <td>3.92089</td>\n",
              "    </tr>\n",
              "    <tr>\n",
              "      <th>2</th>\n",
              "      <td>36610827</td>\n",
              "      <td>3.21540</td>\n",
              "    </tr>\n",
              "    <tr>\n",
              "      <th>3</th>\n",
              "      <td>29555651</td>\n",
              "      <td>2.54506</td>\n",
              "    </tr>\n",
              "    <tr>\n",
              "      <th>4</th>\n",
              "      <td>25928216</td>\n",
              "      <td>2.21831</td>\n",
              "    </tr>\n",
              "    <tr>\n",
              "      <th>5</th>\n",
              "      <td>30423112</td>\n",
              "      <td>2.61376</td>\n",
              "    </tr>\n",
              "    <tr>\n",
              "      <th>6</th>\n",
              "      <td>21881189</td>\n",
              "      <td>1.85961</td>\n",
              "    </tr>\n",
              "    <tr>\n",
              "      <th>7</th>\n",
              "      <td>35810179</td>\n",
              "      <td>3.14761</td>\n",
              "    </tr>\n",
              "    <tr>\n",
              "      <th>8</th>\n",
              "      <td>35355055</td>\n",
              "      <td>3.07585</td>\n",
              "    </tr>\n",
              "  </tbody>\n",
              "</table>\n",
              "</div>"
            ],
            "text/plain": [
              "          X        y\n",
              "0  37837612  4.12166\n",
              "1  37395246  3.92089\n",
              "2  36610827  3.21540\n",
              "3  29555651  2.54506\n",
              "4  25928216  2.21831\n",
              "5  30423112  2.61376\n",
              "6  21881189  1.85961\n",
              "7  35810179  3.14761\n",
              "8  35355055  3.07585"
            ]
          },
          "metadata": {},
          "execution_count": 42
        }
      ]
    },
    {
      "cell_type": "code",
      "metadata": {
        "colab": {
          "base_uri": "https://localhost:8080/",
          "height": 300
        },
        "id": "bvmtNcYdYghy",
        "outputId": "60ba3df4-f3e6-4d0f-d7de-eb008d4d5a55"
      },
      "source": [
        "#Desrcibe bộ test\n",
        "test_set.describe()"
      ],
      "execution_count": 43,
      "outputs": [
        {
          "output_type": "execute_result",
          "data": {
            "text/html": [
              "<div>\n",
              "<style scoped>\n",
              "    .dataframe tbody tr th:only-of-type {\n",
              "        vertical-align: middle;\n",
              "    }\n",
              "\n",
              "    .dataframe tbody tr th {\n",
              "        vertical-align: top;\n",
              "    }\n",
              "\n",
              "    .dataframe thead th {\n",
              "        text-align: right;\n",
              "    }\n",
              "</style>\n",
              "<table border=\"1\" class=\"dataframe\">\n",
              "  <thead>\n",
              "    <tr style=\"text-align: right;\">\n",
              "      <th></th>\n",
              "      <th>X</th>\n",
              "      <th>y</th>\n",
              "    </tr>\n",
              "  </thead>\n",
              "  <tbody>\n",
              "    <tr>\n",
              "      <th>count</th>\n",
              "      <td>1.059000e+04</td>\n",
              "      <td>10590.000000</td>\n",
              "    </tr>\n",
              "    <tr>\n",
              "      <th>mean</th>\n",
              "      <td>2.999277e+07</td>\n",
              "      <td>2.642812</td>\n",
              "    </tr>\n",
              "    <tr>\n",
              "      <th>std</th>\n",
              "      <td>5.759381e+06</td>\n",
              "      <td>0.537305</td>\n",
              "    </tr>\n",
              "    <tr>\n",
              "      <th>min</th>\n",
              "      <td>2.000026e+07</td>\n",
              "      <td>1.669640</td>\n",
              "    </tr>\n",
              "    <tr>\n",
              "      <th>25%</th>\n",
              "      <td>2.503806e+07</td>\n",
              "      <td>2.180550</td>\n",
              "    </tr>\n",
              "    <tr>\n",
              "      <th>50%</th>\n",
              "      <td>2.994436e+07</td>\n",
              "      <td>2.639820</td>\n",
              "    </tr>\n",
              "    <tr>\n",
              "      <th>75%</th>\n",
              "      <td>3.500845e+07</td>\n",
              "      <td>3.100155</td>\n",
              "    </tr>\n",
              "    <tr>\n",
              "      <th>max</th>\n",
              "      <td>3.999734e+07</td>\n",
              "      <td>4.287660</td>\n",
              "    </tr>\n",
              "  </tbody>\n",
              "</table>\n",
              "</div>"
            ],
            "text/plain": [
              "                  X             y\n",
              "count  1.059000e+04  10590.000000\n",
              "mean   2.999277e+07      2.642812\n",
              "std    5.759381e+06      0.537305\n",
              "min    2.000026e+07      1.669640\n",
              "25%    2.503806e+07      2.180550\n",
              "50%    2.994436e+07      2.639820\n",
              "75%    3.500845e+07      3.100155\n",
              "max    3.999734e+07      4.287660"
            ]
          },
          "metadata": {},
          "execution_count": 43
        }
      ]
    },
    {
      "cell_type": "code",
      "metadata": {
        "colab": {
          "base_uri": "https://localhost:8080/",
          "height": 279
        },
        "id": "X1k8N7xBjrCy",
        "outputId": "c2cb28cc-dc8f-4b8d-ad22-5789ad3020ec"
      },
      "source": [
        "#Plot data test\n",
        "plt.scatter(test_set.X, test_set.y, color = 'blue')\n",
        "plt.xlabel(\"Size of data\")\n",
        "plt.ylabel(\"Running time\")\n",
        "plt.show()"
      ],
      "execution_count": 46,
      "outputs": [
        {
          "output_type": "display_data",
          "data": {
            "image/png": "[encoded data removed]",
            "text/plain": [
              "<Figure size 432x288 with 1 Axes>"
            ]
          },
          "metadata": {
            "needs_background": "light"
          }
        }
      ]
    },
    {
      "cell_type": "code",
      "metadata": {
        "colab": {
          "base_uri": "https://localhost:8080/",
          "height": 279
        },
        "id": "5h_Xddu8uOz6",
        "outputId": "1f601f03-f63c-40e6-896e-a57929d7fab7"
      },
      "source": [
        "#Plotting train_set và test_set cùng đồ thị, red là train, blue là test\n",
        "\n",
        "plt.scatter(train_set.X, train_set.y, color = 'red')\n",
        "plt.scatter(test_set.X, test_set.y, color = 'blue')\n",
        "plt.xlabel(\"Size of data\")\n",
        "plt.ylabel(\"Running time\")\n",
        "plt.show()"
      ],
      "execution_count": 67,
      "outputs": [
        {
          "output_type": "display_data",
          "data": {
            "image/png": "[encoded data removed]",
            "text/plain": [
              "<Figure size 432x288 with 1 Axes>"
            ]
          },
          "metadata": {
            "needs_background": "light"
          }
        }
      ]
    },
    {
      "cell_type": "markdown",
      "metadata": {
        "id": "oA0hVV6BQ6nb"
      },
      "source": [
        "# **MODELING** \n"
      ]
    },
    {
      "cell_type": "markdown",
      "metadata": {
        "id": "mwP-NdjxaYoI"
      },
      "source": [
        "# **TRAIN MODEL**"
      ]
    },
    {
      "cell_type": "code",
      "metadata": {
        "id": "xckcbHSCaLjM"
      },
      "source": [
        "#Train model\n",
        "clf = LinearRegression()"
      ],
      "execution_count": 11,
      "outputs": []
    },
    {
      "cell_type": "code",
      "metadata": {
        "colab": {
          "base_uri": "https://localhost:8080/"
        },
        "id": "geJBkuJLa1M_",
        "outputId": "05ea7361-993d-4ebc-b49f-7ce7cfce50d1"
      },
      "source": [
        "X_train = np.asanyarray(train_set[['X']])\n",
        "y_train = np.asanyarray(train_set[['y']])\n",
        "clf.fit(X_train, y_train)\n",
        "\n",
        "# The coefficients\n",
        "print ('Coefficients: ', clf.coef_)\n",
        "print ('Intercept: ', clf.intercept_)"
      ],
      "execution_count": 48,
      "outputs": [
        {
          "output_type": "stream",
          "name": "stdout",
          "text": [
            "Coefficients:  [[8.45569856e-08]]\n",
            "Intercept:  [-0.01589553]\n"
          ]
        }
      ]
    },
    {
      "cell_type": "code",
      "metadata": {
        "colab": {
          "base_uri": "https://localhost:8080/",
          "height": 279
        },
        "id": "EpZ-cR4_mW-B",
        "outputId": "87a1f935-b132-483f-c51a-c4939b442890"
      },
      "source": [
        "#Plot fit line on train_set\n",
        "plt.scatter(train_set.X, train_set.y, color = 'blue')\n",
        "plt.plot(X_train, clf.coef_[0][0]*X_train + clf.intercept_[0], '-r')\n",
        "plt.xlabel(\"Size of data\")\n",
        "plt.ylabel(\"Running time\")\n",
        "plt.show()"
      ],
      "execution_count": 50,
      "outputs": [
        {
          "output_type": "display_data",
          "data": {
            "image/png": "[encoded data removed]",
            "text/plain": [
              "<Figure size 432x288 with 1 Axes>"
            ]
          },
          "metadata": {
            "needs_background": "light"
          }
        }
      ]
    },
    {
      "cell_type": "markdown",
      "metadata": {
        "id": "z8Y0RvVXdRWY"
      },
      "source": [
        "# **TEST MODEL**"
      ]
    },
    {
      "cell_type": "markdown",
      "metadata": {
        "id": "Wt1SjCfOeNj7"
      },
      "source": [
        "**Tính y_pred từ model vừa train**"
      ]
    },
    {
      "cell_type": "code",
      "metadata": {
        "id": "B5eWMuEHoOmz"
      },
      "source": [
        "X_test = test_set[['X']]\n",
        "y_test = test_set[['y']]"
      ],
      "execution_count": 51,
      "outputs": []
    },
    {
      "cell_type": "code",
      "metadata": {
        "colab": {
          "base_uri": "https://localhost:8080/"
        },
        "id": "C8m3E_hldVAh",
        "outputId": "3772f81d-860e-4076-bbaa-905a519c1b7d"
      },
      "source": [
        "y_pred = clf.predict(X_test)"
      ],
      "execution_count": 52,
      "outputs": [
        {
          "output_type": "stream",
          "name": "stderr",
          "text": [
            "/usr/local/lib/python3.7/dist-packages/sklearn/base.py:439: UserWarning: X has feature names, but LinearRegression was fitted without feature names\n",
            "  f\"X has feature names, but {self.__class__.__name__} was fitted without\"\n"
          ]
        }
      ]
    },
    {
      "cell_type": "code",
      "metadata": {
        "colab": {
          "base_uri": "https://localhost:8080/"
        },
        "id": "QF-CwMXAfYeW",
        "outputId": "80ce15ca-8638-48e3-c109-72827e7f55a2"
      },
      "source": [
        "y_pred"
      ],
      "execution_count": 53,
      "outputs": [
        {
          "output_type": "execute_result",
          "data": {
            "text/plain": [
              "array([[3.18353889],\n",
              "       [3.14613375],\n",
              "       [3.07980564],\n",
              "       ...,\n",
              "       [2.81848194],\n",
              "       [1.78037084],\n",
              "       [1.79197375]])"
            ]
          },
          "metadata": {},
          "execution_count": 53
        }
      ]
    },
    {
      "cell_type": "code",
      "metadata": {
        "colab": {
          "base_uri": "https://localhost:8080/",
          "height": 424
        },
        "id": "mmaEgZ-ZfntX",
        "outputId": "04a658c0-1c37-4bed-87fe-5ed403893483"
      },
      "source": [
        "y_test"
      ],
      "execution_count": 54,
      "outputs": [
        {
          "output_type": "execute_result",
          "data": {
            "text/html": [
              "<div>\n",
              "<style scoped>\n",
              "    .dataframe tbody tr th:only-of-type {\n",
              "        vertical-align: middle;\n",
              "    }\n",
              "\n",
              "    .dataframe tbody tr th {\n",
              "        vertical-align: top;\n",
              "    }\n",
              "\n",
              "    .dataframe thead th {\n",
              "        text-align: right;\n",
              "    }\n",
              "</style>\n",
              "<table border=\"1\" class=\"dataframe\">\n",
              "  <thead>\n",
              "    <tr style=\"text-align: right;\">\n",
              "      <th></th>\n",
              "      <th>y</th>\n",
              "    </tr>\n",
              "  </thead>\n",
              "  <tbody>\n",
              "    <tr>\n",
              "      <th>0</th>\n",
              "      <td>4.12166</td>\n",
              "    </tr>\n",
              "    <tr>\n",
              "      <th>1</th>\n",
              "      <td>3.92089</td>\n",
              "    </tr>\n",
              "    <tr>\n",
              "      <th>2</th>\n",
              "      <td>3.21540</td>\n",
              "    </tr>\n",
              "    <tr>\n",
              "      <th>3</th>\n",
              "      <td>2.54506</td>\n",
              "    </tr>\n",
              "    <tr>\n",
              "      <th>4</th>\n",
              "      <td>2.21831</td>\n",
              "    </tr>\n",
              "    <tr>\n",
              "      <th>...</th>\n",
              "      <td>...</td>\n",
              "    </tr>\n",
              "    <tr>\n",
              "      <th>10585</th>\n",
              "      <td>2.35117</td>\n",
              "    </tr>\n",
              "    <tr>\n",
              "      <th>10586</th>\n",
              "      <td>1.79155</td>\n",
              "    </tr>\n",
              "    <tr>\n",
              "      <th>10587</th>\n",
              "      <td>2.90918</td>\n",
              "    </tr>\n",
              "    <tr>\n",
              "      <th>10588</th>\n",
              "      <td>1.80292</td>\n",
              "    </tr>\n",
              "    <tr>\n",
              "      <th>10589</th>\n",
              "      <td>1.82795</td>\n",
              "    </tr>\n",
              "  </tbody>\n",
              "</table>\n",
              "<p>10590 rows × 1 columns</p>\n",
              "</div>"
            ],
            "text/plain": [
              "             y\n",
              "0      4.12166\n",
              "1      3.92089\n",
              "2      3.21540\n",
              "3      2.54506\n",
              "4      2.21831\n",
              "...        ...\n",
              "10585  2.35117\n",
              "10586  1.79155\n",
              "10587  2.90918\n",
              "10588  1.80292\n",
              "10589  1.82795\n",
              "\n",
              "[10590 rows x 1 columns]"
            ]
          },
          "metadata": {},
          "execution_count": 54
        }
      ]
    },
    {
      "cell_type": "code",
      "metadata": {
        "colab": {
          "base_uri": "https://localhost:8080/",
          "height": 424
        },
        "id": "hFjT53Fwo0qr",
        "outputId": "20e89955-90db-47f5-e93f-358c07a85bb7"
      },
      "source": [
        "#Lập bảng so sánh y_pred và y_test\n",
        "y_pred1 = pd.DataFrame(y_pred, columns = ['y_pred'])\n",
        "y_test1 = y_test.rename(columns = {'y':'y_test'})\n",
        "ynew = pd.concat([y_test1, y_pred1], axis=1)\n",
        "ynew"
      ],
      "execution_count": 59,
      "outputs": [
        {
          "output_type": "execute_result",
          "data": {
            "text/html": [
              "<div>\n",
              "<style scoped>\n",
              "    .dataframe tbody tr th:only-of-type {\n",
              "        vertical-align: middle;\n",
              "    }\n",
              "\n",
              "    .dataframe tbody tr th {\n",
              "        vertical-align: top;\n",
              "    }\n",
              "\n",
              "    .dataframe thead th {\n",
              "        text-align: right;\n",
              "    }\n",
              "</style>\n",
              "<table border=\"1\" class=\"dataframe\">\n",
              "  <thead>\n",
              "    <tr style=\"text-align: right;\">\n",
              "      <th></th>\n",
              "      <th>y_test</th>\n",
              "      <th>y_pred</th>\n",
              "    </tr>\n",
              "  </thead>\n",
              "  <tbody>\n",
              "    <tr>\n",
              "      <th>0</th>\n",
              "      <td>4.12166</td>\n",
              "      <td>3.183539</td>\n",
              "    </tr>\n",
              "    <tr>\n",
              "      <th>1</th>\n",
              "      <td>3.92089</td>\n",
              "      <td>3.146134</td>\n",
              "    </tr>\n",
              "    <tr>\n",
              "      <th>2</th>\n",
              "      <td>3.21540</td>\n",
              "      <td>3.079806</td>\n",
              "    </tr>\n",
              "    <tr>\n",
              "      <th>3</th>\n",
              "      <td>2.54506</td>\n",
              "      <td>2.483241</td>\n",
              "    </tr>\n",
              "    <tr>\n",
              "      <th>4</th>\n",
              "      <td>2.21831</td>\n",
              "      <td>2.176516</td>\n",
              "    </tr>\n",
              "    <tr>\n",
              "      <th>...</th>\n",
              "      <td>...</td>\n",
              "      <td>...</td>\n",
              "    </tr>\n",
              "    <tr>\n",
              "      <th>10585</th>\n",
              "      <td>2.35117</td>\n",
              "      <td>2.256362</td>\n",
              "    </tr>\n",
              "    <tr>\n",
              "      <th>10586</th>\n",
              "      <td>1.79155</td>\n",
              "      <td>1.738984</td>\n",
              "    </tr>\n",
              "    <tr>\n",
              "      <th>10587</th>\n",
              "      <td>2.90918</td>\n",
              "      <td>2.818482</td>\n",
              "    </tr>\n",
              "    <tr>\n",
              "      <th>10588</th>\n",
              "      <td>1.80292</td>\n",
              "      <td>1.780371</td>\n",
              "    </tr>\n",
              "    <tr>\n",
              "      <th>10589</th>\n",
              "      <td>1.82795</td>\n",
              "      <td>1.791974</td>\n",
              "    </tr>\n",
              "  </tbody>\n",
              "</table>\n",
              "<p>10590 rows × 2 columns</p>\n",
              "</div>"
            ],
            "text/plain": [
              "        y_test    y_pred\n",
              "0      4.12166  3.183539\n",
              "1      3.92089  3.146134\n",
              "2      3.21540  3.079806\n",
              "3      2.54506  2.483241\n",
              "4      2.21831  2.176516\n",
              "...        ...       ...\n",
              "10585  2.35117  2.256362\n",
              "10586  1.79155  1.738984\n",
              "10587  2.90918  2.818482\n",
              "10588  1.80292  1.780371\n",
              "10589  1.82795  1.791974\n",
              "\n",
              "[10590 rows x 2 columns]"
            ]
          },
          "metadata": {},
          "execution_count": 59
        }
      ]
    },
    {
      "cell_type": "code",
      "metadata": {
        "colab": {
          "base_uri": "https://localhost:8080/",
          "height": 279
        },
        "id": "5xTCkdUnr2RV",
        "outputId": "e32989e5-8e92-4d64-f352-8f8ddee65349"
      },
      "source": [
        "#Plotting fit line on test_set \n",
        "plt.scatter(test_set.X, test_set.y, color = 'blue')\n",
        "plt.plot(X_test, clf.coef_[0][0]*X_test + clf.intercept_[0], '-r')\n",
        "plt.xlabel(\"Size of data\")\n",
        "plt.ylabel(\"Running time\")\n",
        "plt.show()"
      ],
      "execution_count": 64,
      "outputs": [
        {
          "output_type": "display_data",
          "data": {
            "image/png": "[encoded data removed]",
            "text/plain": [
              "<Figure size 432x288 with 1 Axes>"
            ]
          },
          "metadata": {
            "needs_background": "light"
          }
        }
      ]
    },
    {
      "cell_type": "markdown",
      "metadata": {
        "id": "edUDk39eeXu_"
      },
      "source": [
        "**Đánh giá bằng điểm MSE, R2, MAE**"
      ]
    },
    {
      "cell_type": "code",
      "metadata": {
        "colab": {
          "base_uri": "https://localhost:8080/"
        },
        "id": "brVJcaH-eWYP",
        "outputId": "75d23cd0-edb4-4d4a-d775-48e1d68c4ff0"
      },
      "source": [
        "print('MSE:', round(MSE(y_test, y_pred), 6))\n",
        "print('MAE:', round(MAE(y_test, y_pred), 6))\n",
        "print('R2:', round(R2(y_test, y_pred), 6))"
      ],
      "execution_count": 66,
      "outputs": [
        {
          "output_type": "stream",
          "name": "stdout",
          "text": [
            "MSE: 0.020665\n",
            "MAE: 0.122712\n",
            "R2: 0.928413\n"
          ]
        }
      ]
    },
    {
      "cell_type": "markdown",
      "metadata": {
        "id": "__kRs4RlrKSc"
      },
      "source": [
        "**Đánh giá:**\n",
        "- Điểm R2 khá tốt.\n",
        "- Điểm MSE và MAE khá thấp, bởi vì giá trị y ban đầu đều khá nhỏ.\n",
        "- Dựa trên kết quả từ bảng so sánh y_test, y_pred và khi vẽ fit line lên bộ test, có thể thấy model có góc tăng khá thấp so với bộ test, nên với các giá trị x càng lớn, y_pred và y_test càng lệch.\n",
        "- Nguyên nhân có thể là do có sự khác biệt khá rõ ràng giữa tập train và tập test, khi giá trị X, y của tập train từ xấp xĩ [0-1] còn tập test xấp xỉ [2-4] (dễ thấy từ kết quả desribe và plotting hai tập dữ liệu). Cách khắc phục có thể là nên tăng tính đa dạng, khách quan cho tập train hơn so với bộ ban đầu."
      ]
    }
  ]
}